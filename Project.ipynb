{
 "cells": [
  {
   "cell_type": "code",
   "execution_count": null,
   "id": "6ed46779",
   "metadata": {},
   "outputs": [],
   "source": [
    "import pandas as pd\n",
    "import numpy as np\n",
    "import matplotlib.pyplot as plt\n",
    "import seaborn as sns  "
   ]
  },
  {
   "cell_type": "code",
   "execution_count": null,
   "id": "5459db63",
   "metadata": {},
   "outputs": [],
   "source": [
    "df_police = pd.read_csv('./Datasets/police.csv')\n",
    "df_population = pd.read_csv('./Datasets/population.csv')\n",
    "df_race = pd.read_csv('./Datasets/race.csv')\n",
    "population_2020 = 331449281"
   ]
  },
  {
   "cell_type": "code",
   "execution_count": null,
   "id": "957e33d1",
   "metadata": {},
   "outputs": [],
   "source": [
    "# df_police\n",
    "df_police"
   ]
  },
  {
   "cell_type": "code",
   "execution_count": null,
   "id": "a370e49e",
   "metadata": {},
   "outputs": [],
   "source": [
    "# df_population"
   ]
  },
  {
   "cell_type": "code",
   "execution_count": null,
   "id": "9d6711c0",
   "metadata": {},
   "outputs": [],
   "source": [
    "# df_race"
   ]
  },
  {
   "cell_type": "code",
   "execution_count": null,
   "id": "390ddf13",
   "metadata": {},
   "outputs": [],
   "source": [
    "# plt.figure(figsize=(16, 4))\n",
    "\n",
    "# age_plot = sns.histplot(data=df_police, x='age', binwidth=4)\n",
    "\n",
    "# age_plot.set_xticks([0, 10, 20, 30, 40, 50, 60, 70, 80, 90, 100])\n",
    "# age_plot.set_yticks([0, 100, 200, 300, 400, 500, 600, 700, 800, 900, 1000, 1100, 1200])\n",
    "# age_plot.set_xticklabels([0, 10, 20, 30, 40, 50, 60, 70, 80, 90, 100])\n",
    "# age_plot.set_yticklabels([0, 100, 200, 300, 400, 500, 600, 700, 800, 900, 1000, 1100, 1200])\n",
    "\n",
    "# age_plot.set_xlabel('Age')\n",
    "# age_plot.set_title('Age Range')\n",
    "\n",
    "# #plt.savefig('./age_plot.jpg')\n",
    "# plt.show()"
   ]
  },
  {
   "cell_type": "code",
   "execution_count": null,
   "id": "5877c81e",
   "metadata": {},
   "outputs": [],
   "source": [
    "# This is shootings in each state without the ratio.\n",
    "\n",
    "sns.catplot(data=df_police.sort_values(by='state'), x='state', kind='count',height=5, aspect=3)\n",
    "plt.show()"
   ]
  },
  {
   "cell_type": "code",
   "execution_count": null,
   "id": "f60a2098",
   "metadata": {},
   "outputs": [],
   "source": [
    "# This is shootings in each state with the ratio.\n",
    "\n",
    "population_dict = {}\n",
    "for city, num in zip(df_population['abbreviation'], df_population['population'] / 10000):\n",
    "    population_dict[city] = num\n",
    "\n",
    "# population_dict\n",
    "\n",
    "percentage_dict = {'state': [], 'percentage': [], 'state_name': []}\n",
    "for city in population_dict:\n",
    "    percentage = df_police['state'].value_counts()[city] / population_dict[city] * 100\n",
    "    percentage = round(percentage)\n",
    "    percentage_dict['state'].append(city)\n",
    "    percentage_dict['percentage'].append(percentage)\n",
    "    \n",
    "\n",
    "\n",
    "    \n",
    "for state in df_population['state']:\n",
    "    percentage_dict['state_name'].append(state)\n",
    "\n",
    "\n",
    "df_percentage = pd.DataFrame.from_dict(percentage_dict)\n",
    "percentage_dict\n",
    "\n",
    "plt.figure(figsize=(16, 4))\n",
    "\n",
    "percentage_plot = sns.barplot(data=df_percentage, x='state', y='percentage')\n",
    "percentage_plot.set_title('Shootings per 10,000 population')\n",
    "percentage_plot.set_xlabel('State')\n",
    "percentage_plot.set_ylabel('Number of Shootings')\n",
    "\n",
    "#plt.savefig('./Shootings_per_10000.jpg')\n",
    "plt.show()"
   ]
  },
  {
   "cell_type": "code",
   "execution_count": null,
   "id": "5f3669ab",
   "metadata": {},
   "outputs": [],
   "source": [
    "df_race_percentage_local = round((df_police['race'].value_counts().sort_values() / 9096) * 100, 2)\n",
    "df_race_percentage_local = df_race_percentage_local.reset_index()\n",
    "df_race_percentage_local.rename(columns={'index': 'race', 'race': 'percentage'}, inplace=True)\n",
    "df_race_percentage_local"
   ]
  },
  {
   "cell_type": "code",
   "execution_count": null,
   "id": "385147a8",
   "metadata": {},
   "outputs": [],
   "source": [
    "df_race_percentage_global = {'race': [], 'percentage': []}\n",
    "\n",
    "for race, num_of_shooting in df_police['race'].value_counts().sort_values().iteritems():\n",
    "    percentage_global = (num_of_shooting / (df_race.loc[df_race['race'] == race, 'population'].item())) * 100\n",
    "    df_race_percentage_global['race'].append(race)\n",
    "    df_race_percentage_global['percentage'].append(percentage_global)\n",
    "\n",
    "df_race_percentage_global = pd.DataFrame.from_dict(df_race_percentage_global)\n",
    "df_race_percentage_global"
   ]
  },
  {
   "cell_type": "code",
   "execution_count": null,
   "id": "ecbc6c5f",
   "metadata": {
    "scrolled": true
   },
   "outputs": [],
   "source": [
    "df_police['armed_or_unarmed'].value_counts()\n",
    "unarmed_mask = df_police['armed_or_unarmed'] == 'Unarmed/Did Not Have Actual Weapon'\n",
    "\n",
    "df_police[unarmed_mask]['state'].value_counts()"
   ]
  }
 ],
 "metadata": {
  "kernelspec": {
   "display_name": "Python 3",
   "language": "python",
   "name": "python3"
  },
  "language_info": {
   "codemirror_mode": {
    "name": "ipython",
    "version": 3
   },
   "file_extension": ".py",
   "mimetype": "text/x-python",
   "name": "python",
   "nbconvert_exporter": "python",
   "pygments_lexer": "ipython3",
   "version": "3.8.8"
  }
 },
 "nbformat": 4,
 "nbformat_minor": 5
}
