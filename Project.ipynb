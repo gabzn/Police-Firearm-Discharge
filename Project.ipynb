{
 "cells": [
  {
   "cell_type": "code",
   "execution_count": 1,
   "id": "6ed46779",
   "metadata": {},
   "outputs": [],
   "source": [
    "import pandas as pd\n",
    "import numpy as np\n",
    "import matplotlib.pyplot as plt\n",
    "import seaborn as sns  "
   ]
  },
  {
   "cell_type": "code",
   "execution_count": 2,
   "id": "5459db63",
   "metadata": {},
   "outputs": [],
   "source": [
    "df_police = pd.read_csv('./Datasets/police.csv')\n",
    "df_population = pd.read_csv('./Datasets/population.csv')\n",
    "df_race = pd.read_csv('./Datasets/race.csv')"
   ]
  },
  {
   "cell_type": "code",
   "execution_count": 3,
   "id": "957e33d1",
   "metadata": {},
   "outputs": [
    {
     "data": {
      "text/html": [
       "<div>\n",
       "<style scoped>\n",
       "    .dataframe tbody tr th:only-of-type {\n",
       "        vertical-align: middle;\n",
       "    }\n",
       "\n",
       "    .dataframe tbody tr th {\n",
       "        vertical-align: top;\n",
       "    }\n",
       "\n",
       "    .dataframe thead th {\n",
       "        text-align: right;\n",
       "    }\n",
       "</style>\n",
       "<table border=\"1\" class=\"dataframe\">\n",
       "  <thead>\n",
       "    <tr style=\"text-align: right;\">\n",
       "      <th></th>\n",
       "      <th>name</th>\n",
       "      <th>age</th>\n",
       "      <th>gender</th>\n",
       "      <th>race</th>\n",
       "      <th>date_of_incident</th>\n",
       "      <th>city</th>\n",
       "      <th>state</th>\n",
       "      <th>zipcode</th>\n",
       "      <th>responsible_agency</th>\n",
       "      <th>cause_of_death</th>\n",
       "      <th>criminal_charges</th>\n",
       "      <th>mental_illness</th>\n",
       "      <th>alleged_weapon</th>\n",
       "      <th>alleged_threat_level</th>\n",
       "      <th>armed_or_unarmed</th>\n",
       "    </tr>\n",
       "  </thead>\n",
       "  <tbody>\n",
       "    <tr>\n",
       "      <th>0</th>\n",
       "      <td>Jose Oyuela-Palma</td>\n",
       "      <td>49</td>\n",
       "      <td>Male</td>\n",
       "      <td>Unknown race</td>\n",
       "      <td>9/21/2021</td>\n",
       "      <td>Henderson</td>\n",
       "      <td>NV</td>\n",
       "      <td>89002</td>\n",
       "      <td>Henderson Police Department</td>\n",
       "      <td>Gunshot</td>\n",
       "      <td>No known charges</td>\n",
       "      <td>No</td>\n",
       "      <td>undetermined</td>\n",
       "      <td>other</td>\n",
       "      <td>Unclear</td>\n",
       "    </tr>\n",
       "    <tr>\n",
       "      <th>1</th>\n",
       "      <td>Trent Leach</td>\n",
       "      <td>30</td>\n",
       "      <td>Male</td>\n",
       "      <td>Unknown race</td>\n",
       "      <td>9/21/2021</td>\n",
       "      <td>Las Vegas</td>\n",
       "      <td>NV</td>\n",
       "      <td>89101</td>\n",
       "      <td>Las Vegas Metropolitan Police Department</td>\n",
       "      <td>Gunshot</td>\n",
       "      <td>No known charges</td>\n",
       "      <td>No</td>\n",
       "      <td>gun</td>\n",
       "      <td>attack</td>\n",
       "      <td>Allegedly Armed</td>\n",
       "    </tr>\n",
       "    <tr>\n",
       "      <th>2</th>\n",
       "      <td>Phillip Lopez</td>\n",
       "      <td>42</td>\n",
       "      <td>Male</td>\n",
       "      <td>Unknown race</td>\n",
       "      <td>9/20/2021</td>\n",
       "      <td>Signal Hill</td>\n",
       "      <td>CA</td>\n",
       "      <td>90755</td>\n",
       "      <td>Signal Hill Police Department</td>\n",
       "      <td>Gunshot</td>\n",
       "      <td>No known charges</td>\n",
       "      <td>No</td>\n",
       "      <td>knife</td>\n",
       "      <td>attack</td>\n",
       "      <td>Allegedly Armed</td>\n",
       "    </tr>\n",
       "    <tr>\n",
       "      <th>3</th>\n",
       "      <td>Deon Ledet</td>\n",
       "      <td>30</td>\n",
       "      <td>Male</td>\n",
       "      <td>Black</td>\n",
       "      <td>9/20/2021</td>\n",
       "      <td>Houston</td>\n",
       "      <td>TX</td>\n",
       "      <td>77001</td>\n",
       "      <td>Houston Police Department</td>\n",
       "      <td>Gunshot</td>\n",
       "      <td>No known charges</td>\n",
       "      <td>No</td>\n",
       "      <td>gun</td>\n",
       "      <td>attack</td>\n",
       "      <td>Allegedly Armed</td>\n",
       "    </tr>\n",
       "    <tr>\n",
       "      <th>4</th>\n",
       "      <td>Jason Husted</td>\n",
       "      <td>47</td>\n",
       "      <td>Male</td>\n",
       "      <td>Unknown race</td>\n",
       "      <td>9/18/2021</td>\n",
       "      <td>West Ashley</td>\n",
       "      <td>SC</td>\n",
       "      <td>29414</td>\n",
       "      <td>Charleston County Sheriff's Office</td>\n",
       "      <td>Gunshot</td>\n",
       "      <td>No known charges</td>\n",
       "      <td>No</td>\n",
       "      <td>gun</td>\n",
       "      <td>attack</td>\n",
       "      <td>Allegedly Armed</td>\n",
       "    </tr>\n",
       "  </tbody>\n",
       "</table>\n",
       "</div>"
      ],
      "text/plain": [
       "                name  age gender          race date_of_incident         city  \\\n",
       "0  Jose Oyuela-Palma   49   Male  Unknown race        9/21/2021    Henderson   \n",
       "1        Trent Leach   30   Male  Unknown race        9/21/2021    Las Vegas   \n",
       "2      Phillip Lopez   42   Male  Unknown race        9/20/2021  Signal Hill   \n",
       "3         Deon Ledet   30   Male         Black        9/20/2021      Houston   \n",
       "4       Jason Husted   47   Male  Unknown race        9/18/2021  West Ashley   \n",
       "\n",
       "  state  zipcode                        responsible_agency cause_of_death  \\\n",
       "0    NV    89002               Henderson Police Department        Gunshot   \n",
       "1    NV    89101  Las Vegas Metropolitan Police Department        Gunshot   \n",
       "2    CA    90755             Signal Hill Police Department        Gunshot   \n",
       "3    TX    77001                 Houston Police Department        Gunshot   \n",
       "4    SC    29414        Charleston County Sheriff's Office        Gunshot   \n",
       "\n",
       "   criminal_charges mental_illness alleged_weapon alleged_threat_level  \\\n",
       "0  No known charges             No   undetermined                other   \n",
       "1  No known charges             No            gun               attack   \n",
       "2  No known charges             No          knife               attack   \n",
       "3  No known charges             No            gun               attack   \n",
       "4  No known charges             No            gun               attack   \n",
       "\n",
       "  armed_or_unarmed  \n",
       "0          Unclear  \n",
       "1  Allegedly Armed  \n",
       "2  Allegedly Armed  \n",
       "3  Allegedly Armed  \n",
       "4  Allegedly Armed  "
      ]
     },
     "execution_count": 3,
     "metadata": {},
     "output_type": "execute_result"
    }
   ],
   "source": [
    "df_police.head()"
   ]
  },
  {
   "cell_type": "code",
   "execution_count": 4,
   "id": "a370e49e",
   "metadata": {},
   "outputs": [
    {
     "data": {
      "text/html": [
       "<div>\n",
       "<style scoped>\n",
       "    .dataframe tbody tr th:only-of-type {\n",
       "        vertical-align: middle;\n",
       "    }\n",
       "\n",
       "    .dataframe tbody tr th {\n",
       "        vertical-align: top;\n",
       "    }\n",
       "\n",
       "    .dataframe thead th {\n",
       "        text-align: right;\n",
       "    }\n",
       "</style>\n",
       "<table border=\"1\" class=\"dataframe\">\n",
       "  <thead>\n",
       "    <tr style=\"text-align: right;\">\n",
       "      <th></th>\n",
       "      <th>state</th>\n",
       "      <th>abbreviation</th>\n",
       "      <th>population</th>\n",
       "      <th>lat</th>\n",
       "      <th>long</th>\n",
       "    </tr>\n",
       "  </thead>\n",
       "  <tbody>\n",
       "    <tr>\n",
       "      <th>0</th>\n",
       "      <td>Alabama</td>\n",
       "      <td>AL</td>\n",
       "      <td>4903185</td>\n",
       "      <td>32.377716</td>\n",
       "      <td>-86.300568</td>\n",
       "    </tr>\n",
       "    <tr>\n",
       "      <th>1</th>\n",
       "      <td>Alaska</td>\n",
       "      <td>AK</td>\n",
       "      <td>731545</td>\n",
       "      <td>58.301598</td>\n",
       "      <td>-134.420212</td>\n",
       "    </tr>\n",
       "    <tr>\n",
       "      <th>2</th>\n",
       "      <td>Arizona</td>\n",
       "      <td>AZ</td>\n",
       "      <td>7278717</td>\n",
       "      <td>33.448143</td>\n",
       "      <td>-112.096962</td>\n",
       "    </tr>\n",
       "    <tr>\n",
       "      <th>3</th>\n",
       "      <td>Arkansas</td>\n",
       "      <td>AR</td>\n",
       "      <td>3017804</td>\n",
       "      <td>34.746613</td>\n",
       "      <td>-92.288986</td>\n",
       "    </tr>\n",
       "    <tr>\n",
       "      <th>4</th>\n",
       "      <td>California</td>\n",
       "      <td>CA</td>\n",
       "      <td>39512223</td>\n",
       "      <td>38.576668</td>\n",
       "      <td>-121.493629</td>\n",
       "    </tr>\n",
       "  </tbody>\n",
       "</table>\n",
       "</div>"
      ],
      "text/plain": [
       "        state abbreviation  population        lat        long\n",
       "0     Alabama           AL     4903185  32.377716  -86.300568\n",
       "1      Alaska           AK      731545  58.301598 -134.420212\n",
       "2     Arizona           AZ     7278717  33.448143 -112.096962\n",
       "3    Arkansas           AR     3017804  34.746613  -92.288986\n",
       "4  California           CA    39512223  38.576668 -121.493629"
      ]
     },
     "execution_count": 4,
     "metadata": {},
     "output_type": "execute_result"
    }
   ],
   "source": [
    "df_population.head()"
   ]
  },
  {
   "cell_type": "code",
   "execution_count": 5,
   "id": "9d6711c0",
   "metadata": {},
   "outputs": [
    {
     "data": {
      "text/html": [
       "<div>\n",
       "<style scoped>\n",
       "    .dataframe tbody tr th:only-of-type {\n",
       "        vertical-align: middle;\n",
       "    }\n",
       "\n",
       "    .dataframe tbody tr th {\n",
       "        vertical-align: top;\n",
       "    }\n",
       "\n",
       "    .dataframe thead th {\n",
       "        text-align: right;\n",
       "    }\n",
       "</style>\n",
       "<table border=\"1\" class=\"dataframe\">\n",
       "  <thead>\n",
       "    <tr style=\"text-align: right;\">\n",
       "      <th></th>\n",
       "      <th>race</th>\n",
       "      <th>percentage</th>\n",
       "      <th>population</th>\n",
       "    </tr>\n",
       "  </thead>\n",
       "  <tbody>\n",
       "    <tr>\n",
       "      <th>0</th>\n",
       "      <td>White</td>\n",
       "      <td>0.763</td>\n",
       "      <td>252895801.0</td>\n",
       "    </tr>\n",
       "    <tr>\n",
       "      <th>1</th>\n",
       "      <td>Black</td>\n",
       "      <td>0.134</td>\n",
       "      <td>44414204.0</td>\n",
       "    </tr>\n",
       "    <tr>\n",
       "      <th>2</th>\n",
       "      <td>Hispanic</td>\n",
       "      <td>0.185</td>\n",
       "      <td>61318117.0</td>\n",
       "    </tr>\n",
       "    <tr>\n",
       "      <th>3</th>\n",
       "      <td>Unknown race</td>\n",
       "      <td>0.028</td>\n",
       "      <td>9280580.0</td>\n",
       "    </tr>\n",
       "    <tr>\n",
       "      <th>4</th>\n",
       "      <td>Asian</td>\n",
       "      <td>0.059</td>\n",
       "      <td>19555508.0</td>\n",
       "    </tr>\n",
       "  </tbody>\n",
       "</table>\n",
       "</div>"
      ],
      "text/plain": [
       "           race  percentage   population\n",
       "0         White       0.763  252895801.0\n",
       "1         Black       0.134   44414204.0\n",
       "2      Hispanic       0.185   61318117.0\n",
       "3  Unknown race       0.028    9280580.0\n",
       "4         Asian       0.059   19555508.0"
      ]
     },
     "execution_count": 5,
     "metadata": {},
     "output_type": "execute_result"
    }
   ],
   "source": [
    "df_race.head()"
   ]
  },
  {
   "cell_type": "code",
   "execution_count": 43,
   "id": "390ddf13",
   "metadata": {},
   "outputs": [
    {
     "data": {
      "text/plain": [
       "<seaborn.axisgrid.FacetGrid at 0x2110e455a30>"
      ]
     },
     "execution_count": 43,
     "metadata": {},
     "output_type": "execute_result"
    },
    {
     "data": {
      "image/png": "[encoded data removed]",
      "text/plain": [
       "<Figure size 432x432 with 1 Axes>"
      ]
     },
     "metadata": {
      "needs_background": "light"
     },
     "output_type": "display_data"
    }
   ],
   "source": [
    "age_plot = sns.displot(data=df_police, x='age', height=6, binwidth=4)\n",
    "age_plot.ax.set_xticks([0, 10, 20, 30, 40, 50, 60, 70, 80, 90, 100])\n",
    "age_plot.ax.set_yticks([0, 100, 200, 300, 400, 500, 600, 700, 800, 900, 1000, 1100, 1200])\n",
    "age_plot.set_xticklabels([0, 10, 20, 30, 40, 50, 60, 70, 80, 90, 100])\n",
    "age_plot.set_yticklabels([0, 100, 200, 300, 400, 500, 600, 700, 800, 900, 1000, 1100, 1200])"
   ]
  },
  {
   "cell_type": "code",
   "execution_count": null,
   "id": "0c47dad8",
   "metadata": {},
   "outputs": [],
   "source": [
    "sns.catplot(data=df_police.sort_values(by='state'), x='state', kind='count',height=5, aspect=3)\n",
    "plt.show()"
   ]
  },
  {
   "cell_type": "code",
   "execution_count": null,
   "id": "ecc15177",
   "metadata": {},
   "outputs": [],
   "source": [
    "for state in df_population['abbreviation']:\n",
    "    \n",
    "    print(df_population.loc[df_population['abbreviation'] == state, ['population']])  \n"
   ]
  },
  {
   "cell_type": "code",
   "execution_count": null,
   "id": "3e0de3b2",
   "metadata": {},
   "outputs": [],
   "source": [
    "# Figure out how to get the population based on the state"
   ]
  },
  {
   "cell_type": "code",
   "execution_count": null,
   "id": "0148b501",
   "metadata": {},
   "outputs": [],
   "source": [
    "sns.catplot(data=df_police, x='race', kind=\"count\", palette=\"ch:.25\", height=5, aspect=2)\n",
    "plt.show()\n"
   ]
  },
  {
   "cell_type": "code",
   "execution_count": null,
   "id": "fb9d40fa",
   "metadata": {},
   "outputs": [],
   "source": [
    "date_list = df_police['date_of_incident'].to_list()\n",
    "date_map = dict()\n",
    "for date in date_list:\n",
    "    year = date.split('/')[2]\n",
    "    if year in date_map:\n",
    "        date_map[year] += 1\n",
    "    else:\n",
    "        date_map[year] = 1\n",
    "\n",
    "date_map\n",
    "\n",
    "# d = {'col1': [1, 2], 'col2': [3, 4]}"
   ]
  },
  {
   "cell_type": "code",
   "execution_count": null,
   "id": "08a13293",
   "metadata": {},
   "outputs": [],
   "source": [
    "df_date = pd.DataFrame(data=date_map, columns=['year', 'count'])\n",
    "\n",
    "df_date['year'] = date_map.keys()\n",
    "df_date['count'] = date_map.values()\n",
    "df_date"
   ]
  },
  {
   "cell_type": "code",
   "execution_count": null,
   "id": "faa67385",
   "metadata": {},
   "outputs": [],
   "source": [
    "sns.catplot(x=\"year\", y=\"count\",kind=\"bar\", data=df_date)"
   ]
  },
  {
   "cell_type": "code",
   "execution_count": null,
   "id": "fcbf2723",
   "metadata": {},
   "outputs": [],
   "source": [
    "population_2020 = 331449281"
   ]
  },
  {
   "cell_type": "code",
   "execution_count": null,
   "id": "0d283909",
   "metadata": {},
   "outputs": [],
   "source": [
    "race_dict = {\n",
    "    'race': ['White', 'Black', 'Hispanic', 'Unknown race', 'Asian', 'Native American', 'Pacific Islander'],\n",
    "    'percentage': [0.763, 0.134, 0.185, 0.028, 0.059, 0.013, 0.002]\n",
    "}\n",
    "\n",
    "\n",
    "df_race = pd.DataFrame.from_dict(race_dict)\n",
    "df_race['population'] = round(df_race['percentage'] * population_2020)\n",
    "df_race"
   ]
  },
  {
   "cell_type": "code",
   "execution_count": null,
   "id": "c55c67e8",
   "metadata": {},
   "outputs": [],
   "source": [
    "df_race.to_csv('race.csv', index=False)  \n",
    "\n"
   ]
  },
  {
   "cell_type": "code",
   "execution_count": null,
   "id": "ad3b4418",
   "metadata": {},
   "outputs": [],
   "source": [
    "    'White': 0.763\n",
    "    'Black': 0.134\n",
    "    'Hispanic': 0.185\n",
    "    'Unknown race': 0.028\n",
    "    'Asian': 0.059\n",
    "    'Native American': 0.013\n",
    "    'Pacific Islander': 0.002"
   ]
  }
 ],
 "metadata": {
  "kernelspec": {
   "display_name": "Python 3",
   "language": "python",
   "name": "python3"
  },
  "language_info": {
   "codemirror_mode": {
    "name": "ipython",
    "version": 3
   },
   "file_extension": ".py",
   "mimetype": "text/x-python",
   "name": "python",
   "nbconvert_exporter": "python",
   "pygments_lexer": "ipython3",
   "version": "3.8.8"
  }
 },
 "nbformat": 4,
 "nbformat_minor": 5
}
