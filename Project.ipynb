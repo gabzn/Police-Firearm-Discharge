{
 "cells": [
  {
   "cell_type": "code",
   "execution_count": 1,
   "id": "6ed46779",
   "metadata": {},
   "outputs": [],
   "source": [
    "import pandas as pd\n",
    "import numpy as np\n",
    "import matplotlib.pyplot as plt\n",
    "import seaborn as sns  "
   ]
  },
  {
   "cell_type": "code",
   "execution_count": 2,
   "id": "5459db63",
   "metadata": {},
   "outputs": [
    {
     "data": {
      "text/html": [
       "<div>\n",
       "<style scoped>\n",
       "    .dataframe tbody tr th:only-of-type {\n",
       "        vertical-align: middle;\n",
       "    }\n",
       "\n",
       "    .dataframe tbody tr th {\n",
       "        vertical-align: top;\n",
       "    }\n",
       "\n",
       "    .dataframe thead th {\n",
       "        text-align: right;\n",
       "    }\n",
       "</style>\n",
       "<table border=\"1\" class=\"dataframe\">\n",
       "  <thead>\n",
       "    <tr style=\"text-align: right;\">\n",
       "      <th></th>\n",
       "      <th>name</th>\n",
       "      <th>age</th>\n",
       "      <th>gender</th>\n",
       "      <th>race</th>\n",
       "      <th>date_of_incident</th>\n",
       "      <th>city</th>\n",
       "      <th>state</th>\n",
       "      <th>zipcode</th>\n",
       "      <th>responsible_agency</th>\n",
       "      <th>cause_of_death</th>\n",
       "      <th>criminal_charges</th>\n",
       "      <th>mental_illness</th>\n",
       "      <th>alleged_weapon</th>\n",
       "      <th>alleged_threat_level</th>\n",
       "      <th>armed_or_unarmed</th>\n",
       "    </tr>\n",
       "  </thead>\n",
       "  <tbody>\n",
       "    <tr>\n",
       "      <th>0</th>\n",
       "      <td>Jose Oyuela-Palma</td>\n",
       "      <td>49</td>\n",
       "      <td>Male</td>\n",
       "      <td>Unknown race</td>\n",
       "      <td>9/21/2021</td>\n",
       "      <td>Henderson</td>\n",
       "      <td>NV</td>\n",
       "      <td>89002</td>\n",
       "      <td>Henderson Police Department</td>\n",
       "      <td>Gunshot</td>\n",
       "      <td>No known charges</td>\n",
       "      <td>No</td>\n",
       "      <td>undetermined</td>\n",
       "      <td>other</td>\n",
       "      <td>Unclear</td>\n",
       "    </tr>\n",
       "    <tr>\n",
       "      <th>1</th>\n",
       "      <td>Trent Leach</td>\n",
       "      <td>30</td>\n",
       "      <td>Male</td>\n",
       "      <td>Unknown race</td>\n",
       "      <td>9/21/2021</td>\n",
       "      <td>Las Vegas</td>\n",
       "      <td>NV</td>\n",
       "      <td>89101</td>\n",
       "      <td>Las Vegas Metropolitan Police Department</td>\n",
       "      <td>Gunshot</td>\n",
       "      <td>No known charges</td>\n",
       "      <td>No</td>\n",
       "      <td>gun</td>\n",
       "      <td>attack</td>\n",
       "      <td>Allegedly Armed</td>\n",
       "    </tr>\n",
       "    <tr>\n",
       "      <th>2</th>\n",
       "      <td>Phillip Lopez</td>\n",
       "      <td>42</td>\n",
       "      <td>Male</td>\n",
       "      <td>Unknown race</td>\n",
       "      <td>9/20/2021</td>\n",
       "      <td>Signal Hill</td>\n",
       "      <td>CA</td>\n",
       "      <td>90755</td>\n",
       "      <td>Signal Hill Police Department</td>\n",
       "      <td>Gunshot</td>\n",
       "      <td>No known charges</td>\n",
       "      <td>No</td>\n",
       "      <td>knife</td>\n",
       "      <td>attack</td>\n",
       "      <td>Allegedly Armed</td>\n",
       "    </tr>\n",
       "    <tr>\n",
       "      <th>3</th>\n",
       "      <td>Deon Ledet</td>\n",
       "      <td>30</td>\n",
       "      <td>Male</td>\n",
       "      <td>Black</td>\n",
       "      <td>9/20/2021</td>\n",
       "      <td>Houston</td>\n",
       "      <td>TX</td>\n",
       "      <td>77001</td>\n",
       "      <td>Houston Police Department</td>\n",
       "      <td>Gunshot</td>\n",
       "      <td>No known charges</td>\n",
       "      <td>No</td>\n",
       "      <td>gun</td>\n",
       "      <td>attack</td>\n",
       "      <td>Allegedly Armed</td>\n",
       "    </tr>\n",
       "    <tr>\n",
       "      <th>4</th>\n",
       "      <td>Jason Husted</td>\n",
       "      <td>47</td>\n",
       "      <td>Male</td>\n",
       "      <td>Unknown race</td>\n",
       "      <td>9/18/2021</td>\n",
       "      <td>West Ashley</td>\n",
       "      <td>SC</td>\n",
       "      <td>29414</td>\n",
       "      <td>Charleston County Sheriff's Office</td>\n",
       "      <td>Gunshot</td>\n",
       "      <td>No known charges</td>\n",
       "      <td>No</td>\n",
       "      <td>gun</td>\n",
       "      <td>attack</td>\n",
       "      <td>Allegedly Armed</td>\n",
       "    </tr>\n",
       "  </tbody>\n",
       "</table>\n",
       "</div>"
      ],
      "text/plain": [
       "                name  age gender          race date_of_incident         city  \\\n",
       "0  Jose Oyuela-Palma   49   Male  Unknown race        9/21/2021    Henderson   \n",
       "1        Trent Leach   30   Male  Unknown race        9/21/2021    Las Vegas   \n",
       "2      Phillip Lopez   42   Male  Unknown race        9/20/2021  Signal Hill   \n",
       "3         Deon Ledet   30   Male         Black        9/20/2021      Houston   \n",
       "4       Jason Husted   47   Male  Unknown race        9/18/2021  West Ashley   \n",
       "\n",
       "  state  zipcode                        responsible_agency cause_of_death  \\\n",
       "0    NV    89002               Henderson Police Department        Gunshot   \n",
       "1    NV    89101  Las Vegas Metropolitan Police Department        Gunshot   \n",
       "2    CA    90755             Signal Hill Police Department        Gunshot   \n",
       "3    TX    77001                 Houston Police Department        Gunshot   \n",
       "4    SC    29414        Charleston County Sheriff's Office        Gunshot   \n",
       "\n",
       "   criminal_charges mental_illness alleged_weapon alleged_threat_level  \\\n",
       "0  No known charges             No   undetermined                other   \n",
       "1  No known charges             No            gun               attack   \n",
       "2  No known charges             No          knife               attack   \n",
       "3  No known charges             No            gun               attack   \n",
       "4  No known charges             No            gun               attack   \n",
       "\n",
       "  armed_or_unarmed  \n",
       "0          Unclear  \n",
       "1  Allegedly Armed  \n",
       "2  Allegedly Armed  \n",
       "3  Allegedly Armed  \n",
       "4  Allegedly Armed  "
      ]
     },
     "execution_count": 2,
     "metadata": {},
     "output_type": "execute_result"
    }
   ],
   "source": [
    "df = pd.read_csv('./police_violence_cleaned_again.csv')\n",
    "df.head()"
   ]
  },
  {
   "cell_type": "code",
   "execution_count": 3,
   "id": "fc1160c3",
   "metadata": {},
   "outputs": [
    {
     "data": {
      "text/plain": [
       "(9096, 15)"
      ]
     },
     "execution_count": 3,
     "metadata": {},
     "output_type": "execute_result"
    }
   ],
   "source": [
    "df.shape"
   ]
  },
  {
   "cell_type": "code",
   "execution_count": 4,
   "id": "390ddf13",
   "metadata": {},
   "outputs": [
    {
     "data": {
      "image/png": "[encoded data removed]",
      "text/plain": [
       "<Figure size 720x720 with 1 Axes>"
      ]
     },
     "metadata": {
      "needs_background": "light"
     },
     "output_type": "display_data"
    }
   ],
   "source": [
    "sns.displot(data=df, x='age',height=10)\n",
    "plt.show()"
   ]
  },
  {
   "cell_type": "code",
   "execution_count": 5,
   "id": "0c47dad8",
   "metadata": {},
   "outputs": [
    {
     "data": {
      "image/png": "[encoded data removed]",
      "text/plain": [
       "<Figure size 1080x360 with 1 Axes>"
      ]
     },
     "metadata": {
      "needs_background": "light"
     },
     "output_type": "display_data"
    }
   ],
   "source": [
    "sns.catplot(data=df.sort_values(by='state'), x='state', kind='count',height=5, aspect=3)\n",
    "plt.show()"
   ]
  },
  {
   "cell_type": "code",
   "execution_count": 6,
   "id": "0148b501",
   "metadata": {},
   "outputs": [
    {
     "data": {
      "image/png": "[encoded data removed]",
      "text/plain": [
       "<Figure size 720x360 with 1 Axes>"
      ]
     },
     "metadata": {
      "needs_background": "light"
     },
     "output_type": "display_data"
    }
   ],
   "source": [
    "sns.catplot(data=df, x='race', kind=\"count\", palette=\"ch:.25\", height=5, aspect=2)\n",
    "plt.show()\n"
   ]
  },
  {
   "cell_type": "code",
   "execution_count": 7,
   "id": "fb9d40fa",
   "metadata": {},
   "outputs": [
    {
     "data": {
      "text/plain": [
       "{'2021': 672,\n",
       " '2020': 1000,\n",
       " '2019': 1065,\n",
       " '2018': 1066,\n",
       " '2017': 1051,\n",
       " '2016': 1057,\n",
       " '2015': 1096,\n",
       " '2014': 1024,\n",
       " '2013': 1065}"
      ]
     },
     "execution_count": 7,
     "metadata": {},
     "output_type": "execute_result"
    }
   ],
   "source": [
    "date_list = df['date_of_incident'].to_list()\n",
    "date_map = dict()\n",
    "for date in date_list:\n",
    "    year = date.split('/')[2]\n",
    "    if year in date_map:\n",
    "        date_map[year] += 1\n",
    "    else:\n",
    "        date_map[year] = 1\n",
    "\n",
    "date_map\n",
    "\n",
    "# d = {'col1': [1, 2], 'col2': [3, 4]}"
   ]
  },
  {
   "cell_type": "code",
   "execution_count": 8,
   "id": "08a13293",
   "metadata": {},
   "outputs": [
    {
     "data": {
      "text/html": [
       "<div>\n",
       "<style scoped>\n",
       "    .dataframe tbody tr th:only-of-type {\n",
       "        vertical-align: middle;\n",
       "    }\n",
       "\n",
       "    .dataframe tbody tr th {\n",
       "        vertical-align: top;\n",
       "    }\n",
       "\n",
       "    .dataframe thead th {\n",
       "        text-align: right;\n",
       "    }\n",
       "</style>\n",
       "<table border=\"1\" class=\"dataframe\">\n",
       "  <thead>\n",
       "    <tr style=\"text-align: right;\">\n",
       "      <th></th>\n",
       "      <th>year</th>\n",
       "      <th>count</th>\n",
       "    </tr>\n",
       "  </thead>\n",
       "  <tbody>\n",
       "    <tr>\n",
       "      <th>0</th>\n",
       "      <td>2021</td>\n",
       "      <td>672</td>\n",
       "    </tr>\n",
       "    <tr>\n",
       "      <th>1</th>\n",
       "      <td>2020</td>\n",
       "      <td>1000</td>\n",
       "    </tr>\n",
       "    <tr>\n",
       "      <th>2</th>\n",
       "      <td>2019</td>\n",
       "      <td>1065</td>\n",
       "    </tr>\n",
       "    <tr>\n",
       "      <th>3</th>\n",
       "      <td>2018</td>\n",
       "      <td>1066</td>\n",
       "    </tr>\n",
       "    <tr>\n",
       "      <th>4</th>\n",
       "      <td>2017</td>\n",
       "      <td>1051</td>\n",
       "    </tr>\n",
       "    <tr>\n",
       "      <th>5</th>\n",
       "      <td>2016</td>\n",
       "      <td>1057</td>\n",
       "    </tr>\n",
       "    <tr>\n",
       "      <th>6</th>\n",
       "      <td>2015</td>\n",
       "      <td>1096</td>\n",
       "    </tr>\n",
       "    <tr>\n",
       "      <th>7</th>\n",
       "      <td>2014</td>\n",
       "      <td>1024</td>\n",
       "    </tr>\n",
       "    <tr>\n",
       "      <th>8</th>\n",
       "      <td>2013</td>\n",
       "      <td>1065</td>\n",
       "    </tr>\n",
       "  </tbody>\n",
       "</table>\n",
       "</div>"
      ],
      "text/plain": [
       "   year  count\n",
       "0  2021    672\n",
       "1  2020   1000\n",
       "2  2019   1065\n",
       "3  2018   1066\n",
       "4  2017   1051\n",
       "5  2016   1057\n",
       "6  2015   1096\n",
       "7  2014   1024\n",
       "8  2013   1065"
      ]
     },
     "execution_count": 8,
     "metadata": {},
     "output_type": "execute_result"
    }
   ],
   "source": [
    "df_date = pd.DataFrame(data=date_map, columns=['year', 'count'])\n",
    "\n",
    "df_date['year'] = date_map.keys()\n",
    "df_date['count'] = date_map.values()\n",
    "df_date"
   ]
  },
  {
   "cell_type": "code",
   "execution_count": 14,
   "id": "faa67385",
   "metadata": {},
   "outputs": [
    {
     "data": {
      "image/png": "[encoded data removed]",
      "text/plain": [
       "<Figure size 432x288 with 1 Axes>"
      ]
     },
     "metadata": {
      "needs_background": "light"
     },
     "output_type": "display_data"
    }
   ],
   "source": [
    "sns.countplot(y='count', data=df_date)\n",
    "plt.show()"
   ]
  },
  {
   "cell_type": "code",
   "execution_count": 15,
   "id": "fcbf2723",
   "metadata": {},
   "outputs": [
    {
     "data": {
      "image/png": "[encoded data removed]",
      "text/plain": [
       "<Figure size 432x288 with 1 Axes>"
      ]
     },
     "metadata": {},
     "output_type": "display_data"
    }
   ],
   "source": [
    "plt.pie(x=df_date['count'], labels=df_date['year'], autopct='%.0f%%')\n",
    "plt.show()"
   ]
  },
  {
   "cell_type": "code",
   "execution_count": 16,
   "id": "0d283909",
   "metadata": {},
   "outputs": [
    {
     "data": {
      "text/plain": [
       "gun                   4819\n",
       "knife                 1170\n",
       "none                   914\n",
       "undetermined           600\n",
       "vehicle                513\n",
       "                      ... \n",
       "gun and knives           1\n",
       "railroad spike           1\n",
       "contractor's level       1\n",
       "metal bar                1\n",
       "hand torch               1\n",
       "Name: alleged_weapon, Length: 181, dtype: int64"
      ]
     },
     "execution_count": 16,
     "metadata": {},
     "output_type": "execute_result"
    }
   ],
   "source": [
    "df['alleged_weapon'].value_counts()"
   ]
  },
  {
   "cell_type": "code",
   "execution_count": null,
   "id": "c55c67e8",
   "metadata": {},
   "outputs": [],
   "source": []
  }
 ],
 "metadata": {
  "kernelspec": {
   "display_name": "Python 3",
   "language": "python",
   "name": "python3"
  },
  "language_info": {
   "codemirror_mode": {
    "name": "ipython",
    "version": 3
   },
   "file_extension": ".py",
   "mimetype": "text/x-python",
   "name": "python",
   "nbconvert_exporter": "python",
   "pygments_lexer": "ipython3",
   "version": "3.8.8"
  }
 },
 "nbformat": 4,
 "nbformat_minor": 5
}
