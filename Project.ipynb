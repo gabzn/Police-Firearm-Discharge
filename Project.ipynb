{
 "cells": [
  {
   "cell_type": "code",
   "execution_count": 1,
   "id": "6ed46779",
   "metadata": {},
   "outputs": [],
   "source": [
    "import pandas as pd\n",
    "import numpy as np\n",
    "import matplotlib.pyplot as plt\n",
    "import seaborn as sns  "
   ]
  },
  {
   "cell_type": "code",
   "execution_count": 2,
   "id": "5459db63",
   "metadata": {},
   "outputs": [
    {
     "data": {
      "text/html": [
       "<div>\n",
       "<style scoped>\n",
       "    .dataframe tbody tr th:only-of-type {\n",
       "        vertical-align: middle;\n",
       "    }\n",
       "\n",
       "    .dataframe tbody tr th {\n",
       "        vertical-align: top;\n",
       "    }\n",
       "\n",
       "    .dataframe thead th {\n",
       "        text-align: right;\n",
       "    }\n",
       "</style>\n",
       "<table border=\"1\" class=\"dataframe\">\n",
       "  <thead>\n",
       "    <tr style=\"text-align: right;\">\n",
       "      <th></th>\n",
       "      <th>name</th>\n",
       "      <th>age</th>\n",
       "      <th>gender</th>\n",
       "      <th>race</th>\n",
       "      <th>date_of_incident</th>\n",
       "      <th>city</th>\n",
       "      <th>state</th>\n",
       "      <th>zipcode</th>\n",
       "      <th>responsible_agency</th>\n",
       "      <th>cause_of_death</th>\n",
       "      <th>criminal_charges</th>\n",
       "      <th>mental_illness</th>\n",
       "      <th>alleged_weapon</th>\n",
       "      <th>alleged_threat_level</th>\n",
       "      <th>armed_or_unarmed</th>\n",
       "    </tr>\n",
       "  </thead>\n",
       "  <tbody>\n",
       "    <tr>\n",
       "      <th>0</th>\n",
       "      <td>Jose Oyuela-Palma</td>\n",
       "      <td>49</td>\n",
       "      <td>Male</td>\n",
       "      <td>Unknown race</td>\n",
       "      <td>9/21/2021</td>\n",
       "      <td>Henderson</td>\n",
       "      <td>NV</td>\n",
       "      <td>89002</td>\n",
       "      <td>Henderson Police Department</td>\n",
       "      <td>Gunshot</td>\n",
       "      <td>No known charges</td>\n",
       "      <td>No</td>\n",
       "      <td>undetermined</td>\n",
       "      <td>other</td>\n",
       "      <td>Unclear</td>\n",
       "    </tr>\n",
       "    <tr>\n",
       "      <th>1</th>\n",
       "      <td>Trent Leach</td>\n",
       "      <td>30</td>\n",
       "      <td>Male</td>\n",
       "      <td>Unknown race</td>\n",
       "      <td>9/21/2021</td>\n",
       "      <td>Las Vegas</td>\n",
       "      <td>NV</td>\n",
       "      <td>89101</td>\n",
       "      <td>Las Vegas Metropolitan Police Department</td>\n",
       "      <td>Gunshot</td>\n",
       "      <td>No known charges</td>\n",
       "      <td>No</td>\n",
       "      <td>gun</td>\n",
       "      <td>attack</td>\n",
       "      <td>Allegedly Armed</td>\n",
       "    </tr>\n",
       "    <tr>\n",
       "      <th>2</th>\n",
       "      <td>Phillip Lopez</td>\n",
       "      <td>42</td>\n",
       "      <td>Male</td>\n",
       "      <td>Unknown race</td>\n",
       "      <td>9/20/2021</td>\n",
       "      <td>Signal Hill</td>\n",
       "      <td>CA</td>\n",
       "      <td>90755</td>\n",
       "      <td>Signal Hill Police Department</td>\n",
       "      <td>Gunshot</td>\n",
       "      <td>No known charges</td>\n",
       "      <td>No</td>\n",
       "      <td>knife</td>\n",
       "      <td>attack</td>\n",
       "      <td>Allegedly Armed</td>\n",
       "    </tr>\n",
       "    <tr>\n",
       "      <th>3</th>\n",
       "      <td>Deon Ledet</td>\n",
       "      <td>30</td>\n",
       "      <td>Male</td>\n",
       "      <td>Black</td>\n",
       "      <td>9/20/2021</td>\n",
       "      <td>Houston</td>\n",
       "      <td>TX</td>\n",
       "      <td>77001</td>\n",
       "      <td>Houston Police Department</td>\n",
       "      <td>Gunshot</td>\n",
       "      <td>No known charges</td>\n",
       "      <td>No</td>\n",
       "      <td>gun</td>\n",
       "      <td>attack</td>\n",
       "      <td>Allegedly Armed</td>\n",
       "    </tr>\n",
       "    <tr>\n",
       "      <th>4</th>\n",
       "      <td>Jason Husted</td>\n",
       "      <td>47</td>\n",
       "      <td>Male</td>\n",
       "      <td>Unknown race</td>\n",
       "      <td>9/18/2021</td>\n",
       "      <td>West Ashley</td>\n",
       "      <td>SC</td>\n",
       "      <td>29414</td>\n",
       "      <td>Charleston County Sheriff's Office</td>\n",
       "      <td>Gunshot</td>\n",
       "      <td>No known charges</td>\n",
       "      <td>No</td>\n",
       "      <td>gun</td>\n",
       "      <td>attack</td>\n",
       "      <td>Allegedly Armed</td>\n",
       "    </tr>\n",
       "  </tbody>\n",
       "</table>\n",
       "</div>"
      ],
      "text/plain": [
       "                name  age gender          race date_of_incident         city  \\\n",
       "0  Jose Oyuela-Palma   49   Male  Unknown race        9/21/2021    Henderson   \n",
       "1        Trent Leach   30   Male  Unknown race        9/21/2021    Las Vegas   \n",
       "2      Phillip Lopez   42   Male  Unknown race        9/20/2021  Signal Hill   \n",
       "3         Deon Ledet   30   Male         Black        9/20/2021      Houston   \n",
       "4       Jason Husted   47   Male  Unknown race        9/18/2021  West Ashley   \n",
       "\n",
       "  state  zipcode                        responsible_agency cause_of_death  \\\n",
       "0    NV    89002               Henderson Police Department        Gunshot   \n",
       "1    NV    89101  Las Vegas Metropolitan Police Department        Gunshot   \n",
       "2    CA    90755             Signal Hill Police Department        Gunshot   \n",
       "3    TX    77001                 Houston Police Department        Gunshot   \n",
       "4    SC    29414        Charleston County Sheriff's Office        Gunshot   \n",
       "\n",
       "   criminal_charges mental_illness alleged_weapon alleged_threat_level  \\\n",
       "0  No known charges             No   undetermined                other   \n",
       "1  No known charges             No            gun               attack   \n",
       "2  No known charges             No          knife               attack   \n",
       "3  No known charges             No            gun               attack   \n",
       "4  No known charges             No            gun               attack   \n",
       "\n",
       "  armed_or_unarmed  \n",
       "0          Unclear  \n",
       "1  Allegedly Armed  \n",
       "2  Allegedly Armed  \n",
       "3  Allegedly Armed  \n",
       "4  Allegedly Armed  "
      ]
     },
     "execution_count": 2,
     "metadata": {},
     "output_type": "execute_result"
    }
   ],
   "source": [
    "df_police = pd.read_csv('./police_violence_cleaned_again.csv')\n",
    "df_population = pd.read_csv('./state_population.csv')\n",
    "df_police.head()"
   ]
  },
  {
   "cell_type": "code",
   "execution_count": null,
   "id": "957e33d1",
   "metadata": {},
   "outputs": [],
   "source": [
    "df_population"
   ]
  },
  {
   "cell_type": "code",
   "execution_count": 3,
   "id": "390ddf13",
   "metadata": {},
   "outputs": [
    {
     "data": {
      "image/png": "[encoded data removed]",
      "text/plain": [
       "<Figure size 720x720 with 1 Axes>"
      ]
     },
     "metadata": {
      "needs_background": "light"
     },
     "output_type": "display_data"
    }
   ],
   "source": [
    "sns.displot(data=df_police, x='age',height=10)\n",
    "plt.show()"
   ]
  },
  {
   "cell_type": "code",
   "execution_count": 4,
   "id": "0c47dad8",
   "metadata": {},
   "outputs": [
    {
     "data": {
      "image/png": "[encoded data removed]",
      "text/plain": [
       "<Figure size 1080x360 with 1 Axes>"
      ]
     },
     "metadata": {
      "needs_background": "light"
     },
     "output_type": "display_data"
    }
   ],
   "source": [
    "sns.catplot(data=df_police.sort_values(by='state'), x='state', kind='count',height=5, aspect=3)\n",
    "plt.show()"
   ]
  },
  {
   "cell_type": "code",
   "execution_count": 5,
   "id": "ecc15177",
   "metadata": {},
   "outputs": [
    {
     "name": "stdout",
     "output_type": "stream",
     "text": [
      "   population\n",
      "0     4903185\n",
      "   population\n",
      "1      731545\n",
      "   population\n",
      "2     7278717\n",
      "   population\n",
      "3     3017804\n",
      "   population\n",
      "4    39512223\n",
      "   population\n",
      "5     5758736\n",
      "   population\n",
      "6     3565287\n",
      "   population\n",
      "7      973764\n",
      "   population\n",
      "8      705749\n",
      "   population\n",
      "9    21477737\n",
      "    population\n",
      "10    10617423\n",
      "    population\n",
      "11     1415872\n",
      "    population\n",
      "12     1787065\n",
      "    population\n",
      "13    12671821\n",
      "    population\n",
      "14     6732219\n",
      "    population\n",
      "15     3155070\n",
      "    population\n",
      "16     2913314\n",
      "    population\n",
      "17     4467673\n",
      "    population\n",
      "18     4648794\n",
      "    population\n",
      "19     1344212\n",
      "    population\n",
      "20     6045680\n",
      "    population\n",
      "21     6892503\n",
      "    population\n",
      "22     9986857\n",
      "    population\n",
      "23     5639632\n",
      "    population\n",
      "24     2976149\n",
      "    population\n",
      "25     6137428\n",
      "    population\n",
      "26     1068778\n",
      "    population\n",
      "27     1934408\n",
      "    population\n",
      "28     3080156\n",
      "    population\n",
      "29     1359711\n",
      "    population\n",
      "30     8882190\n",
      "    population\n",
      "31     2096829\n",
      "    population\n",
      "32    19453561\n",
      "    population\n",
      "33    10488084\n",
      "    population\n",
      "34      762062\n",
      "    population\n",
      "35    11689100\n",
      "    population\n",
      "36     3956971\n",
      "    population\n",
      "37     4217737\n",
      "    population\n",
      "38    12801989\n",
      "    population\n",
      "39     1059361\n",
      "    population\n",
      "40     5148714\n",
      "    population\n",
      "41      884659\n",
      "    population\n",
      "42     6829174\n",
      "    population\n",
      "43    28995881\n",
      "    population\n",
      "44     3205958\n",
      "    population\n",
      "45      623989\n",
      "    population\n",
      "46     8535519\n",
      "    population\n",
      "47     7614893\n",
      "    population\n",
      "48     1792147\n",
      "    population\n",
      "49     5822434\n",
      "    population\n",
      "50      578759\n"
     ]
    }
   ],
   "source": [
    "for state in df_population['abbreviation']:\n",
    "    \n",
    "    print(df_population.loc[df_population['abbreviation'] == state, ['population']])  \n"
   ]
  },
  {
   "cell_type": "code",
   "execution_count": null,
   "id": "3e0de3b2",
   "metadata": {},
   "outputs": [],
   "source": [
    "# Figure out how to get the population based on the state"
   ]
  },
  {
   "cell_type": "code",
   "execution_count": null,
   "id": "0148b501",
   "metadata": {},
   "outputs": [],
   "source": [
    "sns.catplot(data=df_police, x='race', kind=\"count\", palette=\"ch:.25\", height=5, aspect=2)\n",
    "plt.show()\n"
   ]
  },
  {
   "cell_type": "code",
   "execution_count": null,
   "id": "fb9d40fa",
   "metadata": {},
   "outputs": [],
   "source": [
    "date_list = df_police['date_of_incident'].to_list()\n",
    "date_map = dict()\n",
    "for date in date_list:\n",
    "    year = date.split('/')[2]\n",
    "    if year in date_map:\n",
    "        date_map[year] += 1\n",
    "    else:\n",
    "        date_map[year] = 1\n",
    "\n",
    "date_map\n",
    "\n",
    "# d = {'col1': [1, 2], 'col2': [3, 4]}"
   ]
  },
  {
   "cell_type": "code",
   "execution_count": null,
   "id": "08a13293",
   "metadata": {},
   "outputs": [],
   "source": [
    "df_date = pd.DataFrame(data=date_map, columns=['year', 'count'])\n",
    "\n",
    "df_date['year'] = date_map.keys()\n",
    "df_date['count'] = date_map.values()\n",
    "df_date"
   ]
  },
  {
   "cell_type": "code",
   "execution_count": null,
   "id": "faa67385",
   "metadata": {},
   "outputs": [],
   "source": [
    "sns.catplot(x=\"year\", y=\"count\",kind=\"bar\", data=df_date)"
   ]
  },
  {
   "cell_type": "code",
   "execution_count": null,
   "id": "fcbf2723",
   "metadata": {},
   "outputs": [],
   "source": []
  },
  {
   "cell_type": "code",
   "execution_count": null,
   "id": "0d283909",
   "metadata": {},
   "outputs": [],
   "source": []
  },
  {
   "cell_type": "code",
   "execution_count": null,
   "id": "c55c67e8",
   "metadata": {},
   "outputs": [],
   "source": []
  }
 ],
 "metadata": {
  "kernelspec": {
   "display_name": "Python 3",
   "language": "python",
   "name": "python3"
  },
  "language_info": {
   "codemirror_mode": {
    "name": "ipython",
    "version": 3
   },
   "file_extension": ".py",
   "mimetype": "text/x-python",
   "name": "python",
   "nbconvert_exporter": "python",
   "pygments_lexer": "ipython3",
   "version": "3.8.8"
  }
 },
 "nbformat": 4,
 "nbformat_minor": 5
}
